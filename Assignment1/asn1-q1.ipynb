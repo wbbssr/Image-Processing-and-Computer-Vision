{
 "cells": [
  {
   "cell_type": "markdown",
   "metadata": {
    "collapsed": true
   },
   "source": [
    "# Step 1: Implement the vector median filter for colour images.\n",
    "\n",
    "Write a function that implements the vector median filter.  Details on the vector median filter can be found in Topic 4 of the lecture notes and implementation hints are available in the assignment description PDF.   \n",
    "\n",
    "The parameters to your function should be the input image `I`, and the `radius` of the square neighbourhood, e.g. radius 1 = 3x3 filter, radius 2 = 5x5 filter, etc.\n",
    "\n",
    "Your function should accept images of dtype `uint8` or `float`.    It is easiest if you work with the image as data type `float`.   If the input image is of type `uint8`, it is suggested that you convert it to dtype `float`, construct the output image also as type `float` and then convert it back to `uint8` before returning it.  In any case, the output image returned should be the same dtype as the input image."
   ]
  },
  {
   "cell_type": "code",
   "execution_count": 2,
   "metadata": {},
   "outputs": [],
   "source": [
    "def vector_median(I, radius):\n",
    "    \n",
    "    # Fill in the function here.\n",
    "    img_is_flt = False\n",
    "    \n",
    "    if I.dtype == np.uint8:\n",
    "        I = util.img_as_float(I)\n",
    "        img_is_flt = True\n",
    "        \n",
    "    vmf = np.zeros((I.shape[0], I.shape[1], I.shape[2]))\n",
    "    npad = ((radius, radius), (radius, radius), (0, 0))\n",
    "    I = np.pad(I, pad_width=npad, mode='edge')\n",
    "    \n",
    "    for row in range(vmf.shape[0]):\n",
    "        for col in range(vmf.shape[1]):\n",
    "            nghbr = I[row : row+2*radius+1, col:col+2*radius+1, :]\n",
    "            clrs = np.reshape(nghbr, [nghbr.shape[0] * nghbr.shape[1], 3])\n",
    "            Y = np.tile(np.expand_dims(clrs, axis=2), (1, 1, clrs.shape[0]))\n",
    "            X = np.transpose(Y, (2, 1, 0))\n",
    "            vmf[row, col, :] = Y[np.argmin(np.sum(np.abs(X-Y), axis=(0, 1))), :, 0]\n",
    "\n",
    "    if img_is_flt:\n",
    "        vmf = util.img_as_ubyte(vmf)\n",
    "    \n",
    "    return vmf"
   ]
  },
  {
   "cell_type": "markdown",
   "metadata": {},
   "source": [
    "# Step 2: Establish a Baseline\n",
    "\n",
    "Determine the PSNR and SSIM of all of the noisy images by comparing them to their noiseless versions -- store these in a list. \n",
    "\n",
    "Filter each noisy image with a 3x3 vector median filter and compute the PSNR and SSIM of all of the filtered noisy images (by comparing them to the noiseless images) -- store these in a list.  \n",
    "\n",
    "The noiseless images are provided so you can compute PSNR and SSIM.  See functions `skimage.measure.compare_psnr()` and `skimage.measure.compare_ssim()`.  You'll need the `multichannel=true` argument for `compare_ssim()`.\n",
    "\n",
    "_Hint: This step requires doing a few seemingly different things, but it's actually easier to do them all at once in the same loop._\n"
   ]
  },
  {
   "cell_type": "code",
   "execution_count": 1,
   "metadata": {},
   "outputs": [
    {
     "ename": "NameError",
     "evalue": "name 'vector_median' is not defined",
     "output_type": "error",
     "traceback": [
      "\u001b[0;31m---------------------------------------------------------------------------\u001b[0m",
      "\u001b[0;31mNameError\u001b[0m                                 Traceback (most recent call last)",
      "\u001b[0;32m<ipython-input-1-5cd94a8e911e>\u001b[0m in \u001b[0;36m<module>\u001b[0;34m()\u001b[0m\n\u001b[1;32m     27\u001b[0m         \u001b[0mI_noisy\u001b[0m \u001b[0;34m=\u001b[0m \u001b[0mio\u001b[0m\u001b[0;34m.\u001b[0m\u001b[0mimread\u001b[0m\u001b[0;34m(\u001b[0m\u001b[0mfname\u001b[0m\u001b[0;34m)\u001b[0m\u001b[0;34m\u001b[0m\u001b[0m\n\u001b[1;32m     28\u001b[0m         \u001b[0mI_noiseless\u001b[0m \u001b[0;34m=\u001b[0m \u001b[0mio\u001b[0m\u001b[0;34m.\u001b[0m\u001b[0mimread\u001b[0m\u001b[0;34m(\u001b[0m\u001b[0mos\u001b[0m\u001b[0;34m.\u001b[0m\u001b[0mpath\u001b[0m\u001b[0;34m.\u001b[0m\u001b[0mjoin\u001b[0m\u001b[0;34m(\u001b[0m\u001b[0;34m'images/noiseless'\u001b[0m\u001b[0;34m,\u001b[0m \u001b[0mfilename\u001b[0m\u001b[0;34m)\u001b[0m\u001b[0;34m)\u001b[0m\u001b[0;34m\u001b[0m\u001b[0m\n\u001b[0;32m---> 29\u001b[0;31m         \u001b[0mI_denoised\u001b[0m \u001b[0;34m=\u001b[0m \u001b[0mvector_median\u001b[0m\u001b[0;34m(\u001b[0m\u001b[0mI_noisy\u001b[0m\u001b[0;34m,\u001b[0m \u001b[0;36m1\u001b[0m\u001b[0;34m)\u001b[0m\u001b[0;34m\u001b[0m\u001b[0m\n\u001b[0m\u001b[1;32m     30\u001b[0m         \u001b[0mio\u001b[0m\u001b[0;34m.\u001b[0m\u001b[0mimsave\u001b[0m\u001b[0;34m(\u001b[0m\u001b[0mos\u001b[0m\u001b[0;34m.\u001b[0m\u001b[0mpath\u001b[0m\u001b[0;34m.\u001b[0m\u001b[0mjoin\u001b[0m\u001b[0;34m(\u001b[0m\u001b[0;34m'images/denoised'\u001b[0m\u001b[0;34m,\u001b[0m \u001b[0mfilename\u001b[0m\u001b[0;34m)\u001b[0m\u001b[0;34m,\u001b[0m \u001b[0mI_denoised\u001b[0m\u001b[0;34m)\u001b[0m\u001b[0;34m\u001b[0m\u001b[0m\n\u001b[1;32m     31\u001b[0m \u001b[0;34m\u001b[0m\u001b[0m\n",
      "\u001b[0;31mNameError\u001b[0m: name 'vector_median' is not defined"
     ]
    }
   ],
   "source": [
    "# Some modules you might need.\n",
    "\n",
    "import skimage.io as io\n",
    "import os as os\n",
    "import skimage.filters as filt\n",
    "import skimage.measure as meas\n",
    "import skimage.util as util\n",
    "import numpy as np\n",
    "\n",
    "%matplotlib inline\n",
    "\n",
    "I_noisy_PSNR = []\n",
    "I_noisy_SSIM = []\n",
    "I_denoised_PSNR = []\n",
    "I_denoised_SSIM = []\n",
    "# For every file in the noisy images folder...\n",
    "for root, dirs, files in os.walk('images/noisy-test'):\n",
    "    for filename in files:\n",
    "        \n",
    "        # construct the full filename\n",
    "        fname = os.path.join(root, filename)\n",
    "        \n",
    "        # In case these metadata files show up in the folders, ignore them.\n",
    "        if filename == '.DS_Store':   \n",
    "            continue\n",
    "        \n",
    "        I_noisy = io.imread(fname)\n",
    "        I_noiseless = io.imread(os.path.join('images/noiseless', filename))\n",
    "        I_denoised = vector_median(I_noisy, 1)\n",
    "        io.imsave(os.path.join('images/denoised', filename), I_denoised)\n",
    "        \n",
    "        if I_noisy.dtype != I_noiseless.dtype:\n",
    "            I_noisy = util.dtype.convert(I_noisy, I_noiseless.dtype)\n",
    "            \n",
    "        if I_denoised.dtype != I_noiseless.dtype:\n",
    "            I_denoised = util.dtype.convert(I_denoised, I_noiseless.dtype)\n",
    "        \n",
    "        # Process image noisy file 'fname' here.  The images have the same filenames name in the \n",
    "        # noisy, noisy-test, and noiseless folders.  You'll have to construct the path to the\n",
    "        # noiseless images yourself.  It's easy using os.path.join(), as above.\n",
    "        I_noisy_PSNR.append(meas.compare_psnr(I_noiseless, I_noisy))\n",
    "        I_noisy_SSIM.append(meas.compare_ssim(I_noiseless, I_noisy, multichannel=True))\n",
    "        I_denoised_PSNR.append(meas.compare_psnr(I_noiseless, I_denoised))\n",
    "        I_denoised_SSIM.append(meas.compare_ssim(I_noiseless, I_denoised, multichannel=True))"
   ]
  },
  {
   "cell_type": "markdown",
   "metadata": {},
   "source": [
    "# Step 2: Compute average baseline metrics.\n",
    "\n",
    "Compute the average PSNR and SSIM for the unfiltered noisy images (take the PSNR and SSIM measures for each image and average them).  Do the same for the median-filtered noisy images.  Plot a bar graph showing the two mean PSNR values and another showing the two mean SSIM values before and after filtering (see assignment description for sample output)."
   ]
  },
  {
   "cell_type": "code",
   "execution_count": 3,
   "metadata": {},
   "outputs": [
    {
     "data": {
      "text/plain": [
       "(0, 1)"
      ]
     },
     "execution_count": 3,
     "metadata": {},
     "output_type": "execute_result"
    },
    {
     "data": {
      "image/png": "[encoded data removed]",
      "text/plain": [
       "<Figure size 1152x432 with 2 Axes>"
      ]
     },
     "metadata": {
      "needs_background": "light"
     },
     "output_type": "display_data"
    }
   ],
   "source": [
    "# some modules you might need.\n",
    "\n",
    "import matplotlib.pyplot as plt\n",
    "import numpy as np\n",
    "\n",
    "plt.subplots(1,2,figsize=(16, 6))\n",
    "plt.subplot(1,2,1) \n",
    "plt.bar([0.5,1.5],[np.mean(I_noisy_PSNR),np.mean(I_denoised_PSNR)],width=0.5)\n",
    "plt.xticks([0.5,1.5], ('PSNR Noisy', 'PSNR Median'))\n",
    "\n",
    "plt.subplot(1,2,2) \n",
    "plt.bar([0.5,1.5],[np.mean(I_noisy_SSIM),np.mean(I_denoised_SSIM)],width=0.5)\n",
    "plt.xticks([0.5,1.5], ('SSIM Noisy', 'SSIM Median'))\n",
    "plt.ylim((0, 1)) "
   ]
  },
  {
   "cell_type": "markdown",
   "metadata": {},
   "source": [
    "# Step 3:  See if you can do better!\n",
    "\n",
    "Find a better way to denoise the images.  Compute the mean PSNR and SSIM for your denoising method.   Replot the graphs in the previous step with the new results added.\n",
    "\n",
    "_You can use any functions in the python libraries to help you (numpy, scipy, skimage, etc.) but you cannot bring in code from external sources._\n"
   ]
  },
  {
   "cell_type": "code",
   "execution_count": 4,
   "metadata": {},
   "outputs": [
    {
     "name": "stderr",
     "output_type": "stream",
     "text": [
      "/Users/wbb/anaconda3/envs/cmpt819/lib/python3.7/site-packages/skimage/restoration/_denoise.py:491: FutureWarning: Using a non-tuple sequence for multidimensional indexing is deprecated; use `arr[tuple(seq)]` instead of `arr[seq]`. In the future this will be interpreted as an array index, `arr[np.array(seq)]`, which will result either in an error or a different result.\n",
      "  return pywt.waverecn(denoised_coeffs, wavelet)[original_extent]\n",
      "/Users/wbb/anaconda3/envs/cmpt819/lib/python3.7/site-packages/skimage/util/dtype.py:130: UserWarning: Possible precision loss when converting from float64 to uint8\n",
      "  .format(dtypeobj_in, dtypeobj_out))\n",
      "/Users/wbb/anaconda3/envs/cmpt819/lib/python3.7/site-packages/skimage/util/arraycrop.py:177: FutureWarning: Using a non-tuple sequence for multidimensional indexing is deprecated; use `arr[tuple(seq)]` instead of `arr[seq]`. In the future this will be interpreted as an array index, `arr[np.array(seq)]`, which will result either in an error or a different result.\n",
      "  cropped = ar[slices]\n"
     ]
    }
   ],
   "source": [
    "# Write your de-noising method here.\n",
    "from skimage.restoration import denoise_wavelet\n",
    "import skimage.util as util\n",
    "\n",
    "I_mine_PSNR = []\n",
    "I_mine_SSIM = []\n",
    "# For every file in the noisy images folder...\n",
    "for root, dirs, files in os.walk('images/noisy-test'):\n",
    "    for filename in files:\n",
    "        \n",
    "        # construct the full filename\n",
    "        fname = os.path.join(root, filename)\n",
    "        \n",
    "        # In case these metadata files show up in the folders, ignore them.\n",
    "        if filename == '.DS_Store':   \n",
    "            continue\n",
    "        \n",
    "        I_noiseless = io.imread(os.path.join('images/noiseless', filename))\n",
    "        I_vmf = io.imread(os.path.join('images/denoised', filename))\n",
    "        I_mine = denoise_wavelet(I_vmf, multichannel=True)\n",
    "        \n",
    "        if I_mine.dtype != I_noiseless.dtype:\n",
    "            I_mine = util.dtype.convert(I_mine, I_noiseless.dtype)\n",
    "        \n",
    "        I_mine_PSNR.append(meas.compare_psnr(I_noiseless, I_mine))\n",
    "        I_mine_SSIM.append(meas.compare_ssim(I_noiseless, I_mine, multichannel=True))"
   ]
  },
  {
   "cell_type": "code",
   "execution_count": 5,
   "metadata": {},
   "outputs": [
    {
     "data": {
      "text/plain": [
       "(0, 1)"
      ]
     },
     "execution_count": 5,
     "metadata": {},
     "output_type": "execute_result"
    },
    {
     "data": {
      "image/png": "[encoded data removed]",
      "text/plain": [
       "<Figure size 1152x432 with 2 Axes>"
      ]
     },
     "metadata": {
      "needs_background": "light"
     },
     "output_type": "display_data"
    }
   ],
   "source": [
    "import matplotlib.pyplot as plt\n",
    "import numpy as np\n",
    "\n",
    "plt.subplots(1,2,figsize=(16, 6))\n",
    "plt.subplot(1,2,1) \n",
    "plt.bar([0.5,1.5,2.5],[np.mean(I_noisy_PSNR),np.mean(I_denoised_PSNR),np.mean(I_mine_PSNR)],width=0.5)\n",
    "plt.xticks([0.5,1.5,2.5], ('PSNR Noisy', 'PSNR Median', 'PSNR Mine'))\n",
    "\n",
    "plt.subplot(1,2,2) \n",
    "plt.bar([0.5,1.5,2.5],[np.mean(I_noisy_SSIM),np.mean(I_denoised_SSIM), np.mean(I_mine_SSIM)],width=0.5)\n",
    "plt.xticks([0.5,1.5,2.5], ('SSIM Noisy', 'SSIM Median', 'SSIM Mine'))\n",
    "plt.ylim((0, 1)) "
   ]
  },
  {
   "cell_type": "code",
   "execution_count": null,
   "metadata": {},
   "outputs": [],
   "source": []
  }
 ],
 "metadata": {
  "kernelspec": {
   "display_name": "Python 3",
   "language": "python",
   "name": "python3"
  },
  "language_info": {
   "codemirror_mode": {
    "name": "ipython",
    "version": 3
   },
   "file_extension": ".py",
   "mimetype": "text/x-python",
   "name": "python",
   "nbconvert_exporter": "python",
   "pygments_lexer": "ipython3",
   "version": "3.7.0"
  }
 },
 "nbformat": 4,
 "nbformat_minor": 1
}
