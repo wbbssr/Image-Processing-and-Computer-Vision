{
 "cells": [
  {
   "cell_type": "code",
   "execution_count": 1,
   "metadata": {
    "collapsed": true
   },
   "outputs": [],
   "source": [
    "import os\n",
    "import numpy as np\n",
    "import skimage.color as color\n",
    "import skimage.feature as feat\n",
    "import matplotlib.pyplot as plt\n",
    "import time\n",
    "import sys\n",
    "import sklearn.svm as svm\n",
    "import sklearn.model_selection as mod_s\n",
    "import sklearn.decomposition as dec\n",
    "\n",
    "\n",
    "#opeen data file and return a dictionary\n",
    "def upickle(file):\n",
    "    import pickle\n",
    "    with open(file,'rb') as fo:\n",
    "        dict =pickle.load(fo, encoding='bytes')\n",
    "    fo.closed\n",
    "    return dict\n",
    "\n",
    "def Load_CIFAR_10():\n",
    "    for i in range(1, 6):\n",
    "        path_train = os.path.join('cifar-10-batches-py', 'data_batch_%d' % (i))\n",
    "        data_dict = upickle(path_train)\n",
    "        image_training_input_data = data_dict[b'data'].astype('uint8')\n",
    "        image_training_label = np.array(data_dict[b'labels'])\n",
    "        if i == 1:\n",
    "            input_training_data = image_training_input_data\n",
    "            output_training_data = image_training_label\n",
    "        else:\n",
    "            input_training_data = np.concatenate((input_training_data, image_training_input_data), axis=0)\n",
    "            output_training_data = np.concatenate((output_training_data, image_training_label), axis=0)\n",
    "\n",
    "    path_test = os.path.join('cifar-10-batches-py', 'test_batch')\n",
    "    data_dict = upickle(path_test)\n",
    "    test_input_data = data_dict[b'data'].astype('uint8')\n",
    "    test_label = np.array(data_dict[b'labels'])\n",
    "\n",
    "    return input_training_data, output_training_data, test_input_data, test_label\n",
    "\n",
    "def data_pre_processing():\n",
    "    train_input, train_label, test_input, test_label = Load_CIFAR_10()\n",
    "    #reshape data to 3 channnels\n",
    "    reshape_train_input = train_input.reshape(50000,3,32,32).transpose(0,2,3,1).astype('uint8')\n",
    "    reshape_test_input = test_input.reshape(10000,3,32,32).transpose(0,2,3,1).astype('uint8')\n",
    "    \n",
    "    re_train_input_gray = np.zeros((32, 32, 50000))\n",
    "    re_test_input_gray = np.zeros((32, 32, 10000))\n",
    "    \n",
    "    for i in range(0, train_input.shape[0]):\n",
    "        re_train_input_gray[:, :, i] = color.rgb2gray(reshape_train_input[i, :, :, :])\n",
    "        \n",
    "    for i in range(0, test_input.shape[0]):\n",
    "        re_test_input_gray[:, :, i] = color.rgb2gray(reshape_test_input[i, :, :, :])\n",
    "        \n",
    "    train_input_gray = re_train_input_gray.transpose(2,0,1)\n",
    "    test_input_gray = re_test_input_gray.transpose(2,0,1)\n",
    "    #figure1=plt.figure()\n",
    "    #plt.imshow(train_input_gray[49999, :, :], cmap='gray')\n",
    "    #plt.show()\n",
    "    #figure2=plt.figure()\n",
    "    #plt.imshow(reshape_train_input[49999, :, :, :], cmap='gray')\n",
    "    #plt.show()\n",
    "    return train_input_gray, train_label, test_input_gray, test_label\n",
    "\n",
    "def whitening(I):\n",
    "    I -= np.mean(I, axis=0)\n",
    "    covar = np.dot(I.T, I)/I.shape[0]\n",
    "    U,S,V = np.linalg.svd(covar)\n",
    "    w_matrix = np.dot(np.dot(U, np.diag(1./np.sqrt(S + 10e-5))), U.T)\n",
    "    White_I = np.dot(I, w_matrix)\n",
    "    return White_I\n"
   ]
  },
  {
   "cell_type": "code",
   "execution_count": 2,
   "metadata": {
    "collapsed": true
   },
   "outputs": [
    {
     "name": "stderr",
     "output_type": "stream",
     "text": [
      "C:\\Users\\user\\Anaconda3\\lib\\site-packages\\skimage\\feature\\_hog.py:150: skimage_deprecation: Default value of `block_norm`==`L1` is deprecated and will be changed to `L2-Hys` in v0.15. To supress this message specify explicitly the normalization method.\n  skimage_deprecation)\n"
     ]
    },
    {
     "name": "stdout",
     "output_type": "stream",
     "text": [
      "(50000, 2916)\n"
     ]
    },
    {
     "name": "stdout",
     "output_type": "stream",
     "text": [
      "(10000, 2916)\n"
     ]
    }
   ],
   "source": [
    "#additional for PCA\n",
    "train_input_gray, train_label, test_input_gray, test_label = data_pre_processing()\n",
    "\n",
    "hogs=[]\n",
    "for i in range(0,train_input_gray.shape[0]):\n",
    "    whiten_train_data = whitening(train_input_gray[i, :, :])\n",
    "    hogfeature = feat.hog(whiten_train_data, pixels_per_cell=(4, 4))\n",
    "    hogs.append(hogfeature)\n",
    "hogs_array = np.reshape(np.array(hogs), (train_input_gray.shape[0], -1))\n",
    "print(hogs_array.shape)\n",
    "\n",
    "hogs_test =[]\n",
    "for i in range(0,test_input_gray.shape[0]):\n",
    "    whiten_test_data = whitening(test_input_gray[i, :, :])\n",
    "    hogfeature = feat.hog(whiten_test_data, pixels_per_cell=(4, 4))\n",
    "    hogs_test.append(hogfeature)\n",
    "hogs_test_array = np.reshape(np.array(hogs_test), (test_input_gray.shape[0], -1))\n",
    "print(hogs_test_array.shape)\n"
   ]
  },
  {
   "cell_type": "code",
   "execution_count": 21,
   "metadata": {
    "collapsed": true
   },
   "outputs": [
    {
     "name": "stdout",
     "output_type": "stream",
     "text": [
      "(50000, 1100)\n(10000, 1100)\n"
     ]
    }
   ],
   "source": [
    "#additional for PCA\n",
    "total_array = np.concatenate((hogs_array,hogs_test_array),axis=0)\n",
    "pca = dec.PCA(n_components=1100)\n",
    "new_array = pca.fit_transform(total_array)\n",
    "new_hogs_array = new_array[0:50000,:]\n",
    "new_hogs_test_array = new_array[50000:60000,:]\n",
    "print(new_hogs_array.shape)\n",
    "print(new_hogs_test_array.shape)\n"
   ]
  },
  {
   "cell_type": "code",
   "execution_count": 22,
   "metadata": {
    "collapsed": false
   },
   "outputs": [
    {
     "name": "stdout",
     "output_type": "stream",
     "text": [
      "the 1 iteration,Training time with 5 fold linearsvm is:64.7690440932879s\n"
     ]
    },
    {
     "name": "stdout",
     "output_type": "stream",
     "text": [
      "the 2 iteration,Training time with 5 fold linearsvm is:117.40217669588583s\n"
     ]
    },
    {
     "name": "stdout",
     "output_type": "stream",
     "text": [
      "the 3 iteration,Training time with 5 fold linearsvm is:171.71480288910834s\n"
     ]
    },
    {
     "name": "stdout",
     "output_type": "stream",
     "text": [
      "the 4 iteration,Training time with 5 fold linearsvm is:224.57500061296878s\n"
     ]
    },
    {
     "name": "stdout",
     "output_type": "stream",
     "text": [
      "the 5 iteration,Training time with 5 fold linearsvm is:279.4217728889771s\nthe 1 iteration, the training accuracy is: 0.484025, the validation accuracy           is: 0.439300. \n\nthe 2 iteration, the training accuracy is: 0.486625, the validation accuracy           is: 0.424000. \n\nthe 3 iteration, the training accuracy is: 0.482400, the validation accuracy           is: 0.438600. \n\nthe 4 iteration, the training accuracy is: 0.487650, the validation accuracy           is: 0.431700. \n\nthe 5 iteration, the training accuracy is: 0.484075, the validation accuracy           is: 0.438300. \n\n"
     ]
    }
   ],
   "source": [
    "# additional for PCA\n",
    "\n",
    "train_input_gray, train_label, test_input_gray, test_label = data_pre_processing()\n",
    "\n",
    "accuracy_results={}\n",
    "best_svm = None\n",
    "best_val = -1\n",
    "count=0\n",
    "training_time = 0\n",
    "kf = mod_s.KFold(n_splits=5, shuffle=False)\n",
    "for train_index, val_index in kf.split(new_hogs_array):\n",
    "    start = time.clock()\n",
    "    count +=1\n",
    "    train_input_k, val_input_k = new_hogs_array[train_index], new_hogs_array[val_index]\n",
    "    train_label_k, val_label_k = train_label[train_index], train_label[val_index]\n",
    "    classifier = svm.LinearSVC()\n",
    "    classifier.fit(train_input_k,train_label_k)\n",
    "    end = time.clock()\n",
    "    #print(classifier.get_params())\n",
    "    train_pre = classifier.predict(train_input_k)\n",
    "    val_predict = classifier.predict(val_input_k)\n",
    "    train_acc = np.mean(np.uint(train_pre == train_label_k))\n",
    "    val_acc = np.mean(np.uint(val_predict == val_label_k))\n",
    "    accuracy_results[count] = (train_acc, val_acc)\n",
    "    if val_acc > best_val:\n",
    "        best_val = val_acc\n",
    "        best_svm = classifier\n",
    "    else:\n",
    "        pass\n",
    "    training_time += (end-start)\n",
    "    print('the %d iteration,Training time with 5 fold linearsvm is:%ss'%(count, str(training_time)))\n",
    "\n",
    "for i in sorted(accuracy_results.keys()):\n",
    "    train_acc, val_acc = accuracy_results[i]\n",
    "    print('the %d iteration, the training accuracy is: %f, the validation accuracy \\\n",
    "          is: %f. \\n' %(i, train_acc, val_acc))   \n",
    "    \n"
   ]
  },
  {
   "cell_type": "code",
   "execution_count": null,
   "metadata": {
    "collapsed": true
   },
   "outputs": [],
   "source": [
    "#additional for PCA\n",
    "start = time.clock()\n",
    "test_predict = best_svm.predict(new_hogs_test_array)\n",
    "test_acc = np.mean(np.uint(test_predict == test_label))\n",
    "end = time.clock()\n",
    "test_time = end-start\n",
    "print('Testing time  is:%ss, testing accuracy is: %f'%(str(end-start), test_acc))\n"
   ]
  },
  {
   "cell_type": "markdown",
   "metadata": {
    "collapsed": true
   },
   "source": [
    "Below codes are features with no PCA"
   ]
  },
  {
   "cell_type": "code",
   "execution_count": 4,
   "metadata": {},
   "outputs": [
    {
     "name": "stderr",
     "output_type": "stream",
     "text": [
      "C:\\Users\\user\\Anaconda3\\lib\\site-packages\\skimage\\feature\\_hog.py:150: skimage_deprecation: Default value of `block_norm`==`L1` is deprecated and will be changed to `L2-Hys` in v0.15. To supress this message specify explicitly the normalization method.\n  skimage_deprecation)\n"
     ]
    },
    {
     "name": "stdout",
     "output_type": "stream",
     "text": [
      "Testing time  is:10.310241030834732s, testing accuracy is: 0.441300\n"
     ]
    }
   ],
   "source": [
    "#Non PCA\n",
    "\n",
    "start = time.clock()\n",
    "train_input_gray, train_label, test_input_gray, test_label = data_pre_processing()\n",
    "\n",
    "hogs_train =[]\n",
    "hogs_val =[]\n",
    "accuracy_results={}\n",
    "best_svm = None\n",
    "best_val = -1\n",
    "count=0\n",
    "kf = mod_s.KFold(n_splits=5, shuffle=False)\n",
    "for train_index, val_index in kf.split(train_input_gray):\n",
    "    count +=1\n",
    "    train_input_k, val_input_k = train_input_gray[train_index], train_input_gray[val_index]\n",
    "    train_label_k, val_label_k = train_label[train_index], train_label[val_index]\n",
    "    for i in range(0, train_input_k.shape[0]):\n",
    "        whiten_train_data = whitening(train_input_k[i, :, :])\n",
    "        hogfeature = feat.hog(whiten_train_data, pixels_per_cell=(4, 4))\n",
    "        hogs_train.append(hogfeature)\n",
    "    hogs_array_train = np.reshape(np.array(hogs_train),(train_input_k.shape[0], -1))\n",
    "    for i in range(0, val_input_k.shape[0]):\n",
    "        whiten_train_data = whitening(val_input_k[i, :, :])\n",
    "        hogfeature = feat.hog(whiten_train_data , pixels_per_cell=(4, 4))\n",
    "        hogs_val.append(hogfeature)\n",
    "    hogs_array_val = np.reshape(np.array(hogs_val),(val_input_k.shape[0], -1))\n",
    "    classifier = svm.LinearSVC()\n",
    "    classifier.fit(hogs_array_train,train_label_k)\n",
    "    #print(classifier.get_params())\n",
    "    train_pre = classifier.predict(hogs_array_train)\n",
    "    val_predict = classifier.predict(hogs_array_val)\n",
    "    train_acc = np.mean(np.uint(train_pre == train_label_k))\n",
    "    val_acc = np.mean(np.uint(val_predict == val_label_k))\n",
    "    accuracy_results[count] = (train_acc, val_acc)\n",
    "    if val_acc > best_val:\n",
    "        best_val = val_acc\n",
    "        best_svm = classifier\n",
    "    else:\n",
    "        pass\n",
    "    hogs_train =[]\n",
    "    hogs_val =[]\n",
    "\n",
    "end = time.clock()\n",
    "training_time = end-start\n",
    "print('Training time with 5 fold linearsvm is:%ss'%(str(end-start)))\n",
    "for i in sorted(accuracy_results.keys()):\n",
    "    train_acc, val_acc = accuracy_results[i]\n",
    "    print('the %d iteration, the training accuracy is: %f, the validation accuracy \\\n",
    "          is: %f. \\n' %(i, train_acc, val_acc))\n"
   ]
  },
  {
   "cell_type": "code",
   "execution_count": 7,
   "metadata": {},
   "outputs": [
    {
     "name": "stderr",
     "output_type": "stream",
     "text": [
      "C:\\Users\\user\\Anaconda3\\lib\\site-packages\\skimage\\feature\\_hog.py:150: skimage_deprecation: Default value of `block_norm`==`L1` is deprecated and will be changed to `L2-Hys` in v0.15. To supress this message specify explicitly the normalization method.\n  skimage_deprecation)\n"
     ]
    },
    {
     "name": "stdout",
     "output_type": "stream",
     "text": [
      "Testing time  is:10.310241030834732s, testing accuracy is: 0.441300\n"
     ]
    }
   ],
   "source": [
    "\n",
    "hogs_test =[]\n",
    "for i in range(0, test_input_gray.shape[0]):\n",
    "    whiten_data_test = whitening(test_input_gray[i,:,:])\n",
    "    hogfeature_test = feat.hog(whiten_data_test, pixels_per_cell=(4, 4))\n",
    "    hogs_test.append(hogfeature_test)\n",
    "hogs_array_test = np.reshape(np.array(hogs_test),(np.int(test_input_gray.shape[0]), -1))\n",
    "start = time.clock()\n",
    "test_predict = best_svm.predict(hogs_array_test)\n",
    "test_acc = np.mean(np.uint(test_predict == test_label))\n",
    "end = time.clock()\n",
    "test_time = end-start\n",
    "print('Testing time  is:%ss, testing accuracy is: %f'%(str(end-start), test_acc))"
   ]
  },
  {
   "cell_type": "code",
   "execution_count": 8,
   "metadata": {},
   "outputs": [],
   "source": [
    "\n"
   ]
  },
  {
   "cell_type": "code",
   "execution_count": null,
   "metadata": {},
   "outputs": [],
   "source": []
  }
 ],
 "metadata": {
  "kernelspec": {
   "display_name": "Python 2",
   "language": "python",
   "name": "python2"
  },
  "language_info": {
   "codemirror_mode": {
    "name": "ipython",
    "version": 2
   },
   "file_extension": ".py",
   "mimetype": "text/x-python",
   "name": "python",
   "nbconvert_exporter": "python",
   "pygments_lexer": "ipython2",
   "version": "2.7.6"
  }
 },
 "nbformat": 4,
 "nbformat_minor": 0
}
